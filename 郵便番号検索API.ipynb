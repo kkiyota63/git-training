{
  "nbformat": 4,
  "nbformat_minor": 0,
  "metadata": {
    "colab": {
      "provenance": [],
      "authorship_tag": "ABX9TyNHHB3hckpka24ggI4zvpV0",
      "include_colab_link": true
    },
    "kernelspec": {
      "name": "python3",
      "display_name": "Python 3"
    },
    "language_info": {
      "name": "python"
    }
  },
  "cells": [
    {
      "cell_type": "markdown",
      "metadata": {
        "id": "view-in-github",
        "colab_type": "text"
      },
      "source": [
        "<a href=\"https://colab.research.google.com/github/kkiyota63/git-training/blob/master/%E9%83%B5%E4%BE%BF%E7%95%AA%E5%8F%B7%E6%A4%9C%E7%B4%A2API.ipynb\" target=\"_parent\"><img src=\"https://colab.research.google.com/assets/colab-badge.svg\" alt=\"Open In Colab\"/></a>"
      ]
    },
    {
      "cell_type": "markdown",
      "source": [
        "### スクリプトからWeb APIにリクエストを送るためにはrequest関数を使用します。\n",
        "\n",
        "構文\n",
        "request(method, url, **kwargs)\n",
        "\n",
        "Web APIとのHTTP通信には次の４つのHTTPメソッドを主に使用します。\n",
        "GET\tリソースの取得（READ）\n",
        "POST\tリソースの作成（CREATE）\n",
        "PUT\tリソースの更新（UPDATE）\n",
        "DELETE\tリソースの削除（DELETE）\n",
        "\n",
        "引数kwargsには「オプション名：値」形式でオプションを指定します。\n",
        "\n",
        "オプション\t説明\n",
        "params\tクエリ\n",
        "data\tリクエスト本文\n",
        "headers\tリクエストヘッダー\n",
        "files\tファイル\n",
        "timeout\tタイムアウト時間"
      ],
      "metadata": {
        "id": "YTxp4hSNrqKO"
      }
    },
    {
      "cell_type": "markdown",
      "source": [
        "郵便番号検索APIを利用することで、郵便番号から住所などの情報を取得することができます。\n",
        "\n",
        "ここまで学んだrequestモジュールとjsonモジュールを利用した、次の流れでAPIからデータを取得するプログラムを作成します。"
      ],
      "metadata": {
        "id": "27Hp764WrTbh"
      }
    },
    {
      "cell_type": "code",
      "execution_count": 6,
      "metadata": {
        "colab": {
          "base_uri": "https://localhost:8080/"
        },
        "id": "_dsM4xuCqkOg",
        "outputId": "8242e97e-9f12-494e-9061-fe31c598bb12"
      },
      "outputs": [
        {
          "output_type": "stream",
          "name": "stdout",
          "text": [
            "{'message': None,\n",
            " 'results': [{'address1': '鹿児島県',\n",
            "              'address2': '鹿児島市',\n",
            "              'address3': '郡元',\n",
            "              'kana1': 'ｶｺﾞｼﾏｹﾝ',\n",
            "              'kana2': 'ｶｺﾞｼﾏｼ',\n",
            "              'kana3': 'ｺｵﾘﾓﾄ',\n",
            "              'prefcode': '46',\n",
            "              'zipcode': '8900065'}],\n",
            " 'status': 200}\n"
          ]
        }
      ],
      "source": [
        "import requests\n",
        "import json\n",
        "import pprint\n",
        "\n",
        "url = 'https://zipcloud.ibsnet.co.jp/api/search'\n",
        "\n",
        "params = {'zipcode':'8900065'} #実家\n",
        "#params = {'zipcode':'8900065'} #現住所\n",
        "\n",
        "res = requests.get(url, params=params)\n",
        "\n",
        "data = json.loads(res.text)\n",
        "pprint.pprint(data)"
      ]
    },
    {
      "cell_type": "markdown",
      "source": [
        "Responseオブジェクトのres.textにはJSON形式の文字列が格納されています。\n",
        "このデータをjson.loads()関数でPythonの値に変換しています。\n",
        "\n",
        "変換したデータはpprint.pprint()で表示しています。\n",
        "\n",
        "重要\n",
        "pprint.pprint()はprint()に比べて、辞書の内容をより見やすく表示します\n",
        "\n",
        " Python値に変換したjsonからresultsだけを取得するには次のように記述します"
      ],
      "metadata": {
        "id": "CK2tmncDrH4U"
      }
    },
    {
      "cell_type": "code",
      "source": [
        "pprint.pprint(data['results'][0])"
      ],
      "metadata": {
        "colab": {
          "base_uri": "https://localhost:8080/"
        },
        "id": "N5WyUh9mq6Ye",
        "outputId": "859de7d7-7dd0-4c8b-8826-e94164bdf13a"
      },
      "execution_count": 2,
      "outputs": [
        {
          "output_type": "stream",
          "name": "stdout",
          "text": [
            "{'address1': '神奈川県',\n",
            " 'address2': '横浜市港南区',\n",
            " 'address3': '最戸',\n",
            " 'kana1': 'ｶﾅｶﾞﾜｹﾝ',\n",
            " 'kana2': 'ﾖｺﾊﾏｼｺｳﾅﾝｸ',\n",
            " 'kana3': 'ｻｲﾄﾞ',\n",
            " 'prefcode': '14',\n",
            " 'zipcode': '2330008'}\n"
          ]
        }
      ]
    },
    {
      "cell_type": "markdown",
      "source": [
        "上記の結果から、県だけを抜き出して取得したいときは次のように記述します。"
      ],
      "metadata": {
        "id": "ERpwdpqerEKn"
      }
    },
    {
      "cell_type": "code",
      "source": [
        "pprint.pprint(data['results'][0]['address1'])"
      ],
      "metadata": {
        "colab": {
          "base_uri": "https://localhost:8080/"
        },
        "id": "J16mWUcTrAdl",
        "outputId": "6a152be2-602d-4675-a8c8-535f36574614"
      },
      "execution_count": 3,
      "outputs": [
        {
          "output_type": "stream",
          "name": "stdout",
          "text": [
            "'神奈川県'\n"
          ]
        }
      ]
    }
  ]
}